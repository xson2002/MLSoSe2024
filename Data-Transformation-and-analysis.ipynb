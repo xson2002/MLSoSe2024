{
 "cells": [
  {
   "cell_type": "code",
   "execution_count": 1,
   "id": "2c9160ef",
   "metadata": {},
   "outputs": [],
   "source": [
    "from functools import partial\n",
    "import json\n",
    "import os\n",
    "import time\n",
    "\n",
    "import numpy as np\n",
    "import pandas as pd\n",
    "\n",
    "%matplotlib inline\n",
    "from collections import Counter"
   ]
  },
  {
   "cell_type": "code",
   "execution_count": 2,
   "id": "2ef1892e",
   "metadata": {},
   "outputs": [],
   "source": [
    "base_folder = \"Data\"\n",
    "result_folder = \"Result\"\n",
    "\n",
    "item_features_selected_columns = {\n",
    "    'item_id': 'item',\n",
    "    'first_level_category_id': 'tag',\n",
    "}\n",
    "rec_selected_columns = {\n",
    "    'timestamp': 'timestamp',\n",
    "    'user_id' : 'user',\n",
    "    'item_id' : 'item'\n",
    "}\n",
    "user_features_selected_columns = {\n",
    "    'user_id' : 'user',\n",
    "    'rec_active_level': 'rec_active_level'\n",
    "}"
   ]
  },
  {
   "cell_type": "code",
   "execution_count": 3,
   "id": "b2f91fd6",
   "metadata": {},
   "outputs": [],
   "source": [
    "item_features = pd.read_csv(f\"{base_folder}/item_features.csv\")"
   ]
  },
  {
   "cell_type": "code",
   "execution_count": 4,
   "id": "992f4933",
   "metadata": {},
   "outputs": [
    {
     "name": "stdout",
     "output_type": "stream",
     "text": [
      "['item_id', 'first_level_category_id', 'first_level_category_name', 'second_level_category_id', 'second_level_category_name', 'third_level_category_id', 'third_level_category_name', 'fourth_level_category_id', 'fourth_level_category_name', 'caption', 'author_id', 'item_type', 'upload_time', 'upload_type', 'first_level_category_name_en', 'second_level_category_name_en', 'third_level_category_name_en', 'fourth_level_category_name_en']\n"
     ]
    }
   ],
   "source": [
    "item_features_headers = item_features.columns.tolist()\n",
    "print (item_features_headers)\n"
   ]
  },
  {
   "cell_type": "code",
   "execution_count": 5,
   "id": "96a9ad69",
   "metadata": {},
   "outputs": [],
   "source": [
    "item_features_new = item_features[list(item_features_selected_columns.keys())]\n",
    "item_features_new = item_features_new.rename(columns=item_features_selected_columns)"
   ]
  },
  {
   "cell_type": "code",
   "execution_count": 6,
   "id": "591d8212",
   "metadata": {},
   "outputs": [],
   "source": [
    "item_features_new.to_csv(f\"{result_folder}/item_metadata_w_tags.csv\", index=False)"
   ]
  },
  {
   "cell_type": "code",
   "execution_count": 7,
   "id": "5a540166",
   "metadata": {},
   "outputs": [],
   "source": [
    "df_item_features_small = item_features[['item_id', 'first_level_category_id', 'second_level_category_id', 'upload_time', 'author_id']]"
   ]
  },
  {
   "cell_type": "code",
   "execution_count": 8,
   "id": "1d79ce57",
   "metadata": {},
   "outputs": [],
   "source": [
    "rec_inter = pd.read_csv(f\"{base_folder}/rec_inter.csv\")"
   ]
  },
  {
   "cell_type": "code",
   "execution_count": 9,
   "id": "6477613f",
   "metadata": {
    "scrolled": true
   },
   "outputs": [
    {
     "name": "stdout",
     "output_type": "stream",
     "text": [
      "['user_id', 'item_id', 'duration_ms', 'playing_time', 'timestamp', 'forward', 'like', 'follow', 'search_photo_related', 'search', 'click', 'time']\n"
     ]
    }
   ],
   "source": [
    "rec_inter_headers = rec_inter.columns.tolist()\n",
    "print (rec_inter_headers)\n"
   ]
  },
  {
   "cell_type": "code",
   "execution_count": 10,
   "id": "e46196b5",
   "metadata": {},
   "outputs": [],
   "source": [
    "recommendations = rec_inter[list(rec_selected_columns.keys())]\n",
    "recommendations = recommendations.rename(columns=rec_selected_columns)\n"
   ]
  },
  {
   "cell_type": "code",
   "execution_count": 13,
   "id": "48cd1bcf",
   "metadata": {},
   "outputs": [],
   "source": [
    "recommendations.to_csv(f\"{result_folder}/recommendations.csv\", index=False)"
   ]
  }
 ],
 "metadata": {
  "kernelspec": {
   "display_name": "Python 3 (ipykernel)",
   "language": "python",
   "name": "python3"
  },
  "language_info": {
   "codemirror_mode": {
    "name": "ipython",
    "version": 3
   },
   "file_extension": ".py",
   "mimetype": "text/x-python",
   "name": "python",
   "nbconvert_exporter": "python",
   "pygments_lexer": "ipython3",
   "version": "3.9.7"
  }
 },
 "nbformat": 4,
 "nbformat_minor": 5
}
