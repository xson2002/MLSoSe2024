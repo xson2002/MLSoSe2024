{
 "cells": [
  {
   "cell_type": "code",
   "execution_count": 3,
   "id": "2c9160ef",
   "metadata": {},
   "outputs": [],
   "source": [
    "from functools import partial\n",
    "import json\n",
    "import os\n",
    "\n",
    "import numpy as np\n",
    "import pandas as pd\n",
    "\n",
    "%matplotlib inline\n",
    "from collections import Counter"
   ]
  },
  {
   "cell_type": "code",
   "execution_count": 5,
   "id": "2ef1892e",
   "metadata": {},
   "outputs": [],
   "source": [
    "base_folder = \"Data\"\n",
    "result_folder = \"Result\""
   ]
  },
  {
   "cell_type": "code",
   "execution_count": 3,
   "id": "b2f91fd6",
   "metadata": {},
   "outputs": [],
   "source": [
    "item_features = pd.read_csv(f\"{base_folder}/item_features.csv\")"
   ]
  },
  {
   "cell_type": "code",
   "execution_count": 4,
   "id": "519dbf85",
   "metadata": {},
   "outputs": [],
   "source": [
    "first_level_category = item_features[[ 'first_level_category_id', 'first_level_category_name_en']]\n",
    "first_level_category = first_level_category.sort_values(by='first_level_category_id')\n"
   ]
  },
  {
   "cell_type": "code",
   "execution_count": 5,
   "id": "15c9c878",
   "metadata": {
    "scrolled": true
   },
   "outputs": [
    {
     "name": "stdout",
     "output_type": "stream",
     "text": [
      "ID: 0, Item: empty, Count: 302861\n",
      "ID: 1, Item: dance, Count: 85907\n",
      "ID: 2, Item: music, Count: 185197\n",
      "ID: 3, Item: game, Count: 310777\n",
      "ID: 4, Item: Beauty Makeup, Count: 75264\n",
      "ID: 5, Item: Style, Count: 165759\n",
      "ID: 6, Item: Star Entertainment, Count: 198103\n",
      "ID: 7, Item: motion, Count: 85472\n",
      "ID: 8, Item: Appearance value, Count: 71495\n",
      "ID: 9, Item: Funny, Count: 142102\n",
      "ID: 10, Item: Travel, Count: 33930\n",
      "ID: 11, Item: life, Count: 149404\n",
      "ID: 12, Item: Food, Count: 207102\n",
      "ID: 13, Item: San Nong, Count: 96467\n",
      "ID: 14, Item: education, Count: 54351\n",
      "ID: 15, Item: Talent, Count: 121431\n",
      "ID: 16, Item: health, Count: 59899\n",
      "ID: 17, Item: animal, Count: 65251\n",
      "ID: 18, Item: automobile, Count: 93557\n",
      "ID: 19, Item: emotion, Count: 149993\n",
      "ID: 20, Item: pixiv, Count: 295550\n",
      "ID: 21, Item: history, Count: 13157\n",
      "ID: 22, Item: Finance and Economics, Count: 16543\n",
      "ID: 23, Item: religion, Count: 11702\n",
      "ID: 24, Item: Astrological numerology, Count: 19039\n",
      "ID: 25, Item: Parent-child, Count: 128276\n",
      "ID: 26, Item: photograph, Count: 33190\n",
      "ID: 27, Item: High tech digital, Count: 56762\n",
      "ID: 28, Item: real-time info, Count: 95866\n",
      "ID: 29, Item: science, Count: 8046\n",
      "ID: 30, Item: statute, Count: 13059\n",
      "ID: 34, Item: Random clap, Count: 343550\n",
      "ID: 35, Item: military affairs, Count: 13817\n",
      "ID: 36, Item: Real Estate Home Furnishings, Count: 54636\n",
      "ID: 37, Item: Strange people and strange phenomena, Count: 13252\n",
      "ID: 38, Item: read, Count: 60666\n",
      "ID: 39, Item: Film, Television, and Short Dramas, Count: 325785\n"
     ]
    }
   ],
   "source": [
    "item_feature_pairs = first_level_category.apply(tuple, axis=1)\n",
    "item_counts = Counter(item_feature_pairs)\n",
    "for (item_id, item), count in item_counts.items():\n",
    "    print(f'ID: {item_id}, Item: {item}, Count: {count}')"
   ]
  },
  {
   "cell_type": "code",
   "execution_count": 9,
   "id": "b816c21b",
   "metadata": {},
   "outputs": [],
   "source": [
    "item_counts_df = pd.DataFrame(item_counts.items(), columns=['first_level_category', 'count'])\n",
    "\n",
    "item_counts_df[['id', 'tag']] = pd.DataFrame(item_counts_df['first_level_category'].tolist(), index=item_counts_df.index)\n",
    "\n",
    "item_counts_df[['id', 'tag', 'count']].to_csv(f\"{result_folder}/Category-ID-Count.csv\", index=False)"
   ]
  },
  {
   "cell_type": "code",
   "execution_count": 6,
   "id": "1d79ce57",
   "metadata": {},
   "outputs": [],
   "source": [
    "src_inter = pd.read_csv(f\"{base_folder}/src_inter.csv\")"
   ]
  },
  {
   "cell_type": "code",
   "execution_count": 16,
   "id": "f82abc7d",
   "metadata": {},
   "outputs": [
    {
     "name": "stdout",
     "output_type": "stream",
     "text": [
      "0            TRENDING\n",
      "1            TRENDING\n",
      "2            TRENDING\n",
      "3            TRENDING\n",
      "4            TRENDING\n",
      "              ...    \n",
      "3171226    USER_INPUT\n",
      "3171227    USER_INPUT\n",
      "3171228    USER_INPUT\n",
      "3171229    USER_INPUT\n",
      "3171230    USER_INPUT\n",
      "Name: search_source, Length: 3171231, dtype: object\n"
     ]
    }
   ],
   "source": [
    "search_source = src_inter[ 'search_source']\n",
    "search_source_counts = Counter(search_source)\n",
    "\n",
    "for item, count in search_source_counts.items():\n",
    "    print(f'{item}: {count}')"
   ]
  },
  {
   "cell_type": "code",
   "execution_count": 17,
   "id": "11df6f45",
   "metadata": {},
   "outputs": [
    {
     "name": "stdout",
     "output_type": "stream",
     "text": [
      "TRENDING: 269705\n",
      "SUGGESTION: 950107\n",
      "PLACEHOLDER: 104308\n",
      "USER_INPUT: 809013\n",
      "RELATED_FEED_QUERY: 166621\n",
      "HISTORY: 526156\n",
      "UNKNOWN_PAGE: 345321\n"
     ]
    }
   ],
   "source": [
    "search_source_counts = Counter(search_source)\n",
    "\n",
    "for item, count in search_source_counts.items():\n",
    "    print(f'{item}: {count}')"
   ]
  },
  {
   "cell_type": "code",
   "execution_count": 9,
   "id": "ad8ff87f",
   "metadata": {},
   "outputs": [
    {
     "name": "stdout",
     "output_type": "stream",
     "text": [
      "IMAGE_ATLAS: 527535\n",
      "VIDEO: 2275388\n",
      "ADVERT: 114856\n",
      "USER: 87318\n",
      "MUSIC: 2395\n",
      "LIVE: 47997\n",
      "COMMODITY: 34374\n",
      "UNKNOWN: 81368\n"
     ]
    }
   ],
   "source": [
    "item_type = src_inter[ 'item_type']\n",
    "item_type_counts = Counter(item_type)\n",
    "\n",
    "for item, count in item_type_counts.items():\n",
    "    print(f'{item}: {count}')"
   ]
  },
  {
   "cell_type": "code",
   "execution_count": 19,
   "id": "e1394c3d",
   "metadata": {},
   "outputs": [
    {
     "name": "stdout",
     "output_type": "stream",
     "text": [
      "0    2023-05-28 01:14:39\n",
      "1    2023-05-28 01:14:39\n",
      "2    2023-05-28 01:14:39\n",
      "3    2023-05-28 01:14:39\n",
      "4    2023-05-28 01:14:39\n",
      "5    2023-05-25 21:56:29\n",
      "6    2023-05-25 21:56:29\n",
      "7    2023-05-25 21:56:29\n",
      "8    2023-05-25 21:56:29\n",
      "9    2023-05-25 21:56:29\n",
      "Name: search_session_time, dtype: object\n"
     ]
    }
   ],
   "source": [
    "print(src_inter['search_session_time'].head(10))"
   ]
  },
  {
   "cell_type": "code",
   "execution_count": 12,
   "id": "740d43c7",
   "metadata": {},
   "outputs": [
    {
     "name": "stdout",
     "output_type": "stream",
     "text": [
      "       user_id  variety\n",
      "0            1        4\n",
      "1            2        3\n",
      "2            3        7\n",
      "3            4        7\n",
      "4            5        4\n",
      "...        ...      ...\n",
      "25872    25873        1\n",
      "25873    25874        5\n",
      "25874    25875        3\n",
      "25875    25876        7\n",
      "25876    25877        2\n",
      "\n",
      "[25877 rows x 2 columns]\n"
     ]
    }
   ],
   "source": [
    "user_variety = src_inter.groupby('user_id')['search_source'].nunique().reset_index()\n",
    "user_variety.columns = ['user_id', 'variety']\n",
    "print(user_variety)\n"
   ]
  },
  {
   "cell_type": "code",
   "execution_count": 13,
   "id": "1565cede",
   "metadata": {},
   "outputs": [],
   "source": [
    "user_features = pd.read_csv(f\"{base_folder}/user_features.csv\")"
   ]
  },
  {
   "cell_type": "code",
   "execution_count": 15,
   "id": "9aed48d5",
   "metadata": {},
   "outputs": [
    {
     "name": "stdout",
     "output_type": "stream",
     "text": [
      "   user_id  onehot_feat1  onehot_feat2  search_active_level  reco_active_level\n",
      "0     7562             4             1                    3                  3\n",
      "1    19630             5             1                    0                  2\n",
      "2     4039             3             1                    0                  0\n",
      "3    19995             4             1                    5                  3\n",
      "4    22234             3             2                    4                  2\n",
      "5     6504             4             1                    0                  2\n",
      "6    17516             3             2                    4                  3\n",
      "7     8267             2             2                    3                  2\n",
      "8    23414             3             1                    3                  0\n",
      "9     9413             5             1                    0                  2\n"
     ]
    }
   ],
   "source": [
    "print(user_features.head(10))\n"
   ]
  },
  {
   "cell_type": "code",
   "execution_count": null,
   "id": "8506ae81",
   "metadata": {},
   "outputs": [],
   "source": []
  }
 ],
 "metadata": {
  "kernelspec": {
   "display_name": "Python 3 (ipykernel)",
   "language": "python",
   "name": "python3"
  },
  "language_info": {
   "codemirror_mode": {
    "name": "ipython",
    "version": 3
   },
   "file_extension": ".py",
   "mimetype": "text/x-python",
   "name": "python",
   "nbconvert_exporter": "python",
   "pygments_lexer": "ipython3",
   "version": "3.9.7"
  }
 },
 "nbformat": 4,
 "nbformat_minor": 5
}
