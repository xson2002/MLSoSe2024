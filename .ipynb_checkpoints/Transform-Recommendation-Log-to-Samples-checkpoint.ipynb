{
 "cells": [
  {
   "cell_type": "code",
   "execution_count": 1,
   "metadata": {},
   "outputs": [],
   "source": [
    "from functools import partial\n",
    "import json\n",
    "import os\n",
    "\n",
    "import numpy as np\n",
    "import pandas as pd\n",
    "\n",
    "%matplotlib inline"
   ]
  },
  {
   "cell_type": "markdown",
   "metadata": {},
   "source": [
    "# Data Transformation\n",
    "\n",
    "Here, we transform the raw data into the observations required by the model. \n",
    "\n",
    "## Input Data\n",
    "\n",
    "We expect 2 data files to be available, `recommendations.csv` and `item_metadata_w_tags.csv`.\n",
    "Examples of these files can be found in the `data` folder.\n",
    "\n",
    "* `recommendations.csv`: \n",
    "    * timestamp (float): When the recommendation was made\n",
    "    * user (int) - User identifier\n",
    "    * item (int) - Item identifier\n",
    "\n",
    "* `item_metadata_w_tags.csv`:\n",
    "    * item (int)\n",
    "    * text (str)\n",
    "    * tag (str/int)\n",
    "\n",
    "## Output Data\n",
    "\n",
    "* `samples_for_model.csv` - Observations \n",
    "    * user (int) - User identifier\n",
    "    * week_index (int) - Week in the study period\n",
    "    * count (int) - Number of items recommended to the user in this week\n",
    "    * weeks_since_signup (int) - Number of weeks since the user's first interaction\n",
    "    * variety (int) - Variety in topics or political"
   ]
  },
  {
   "cell_type": "code",
   "execution_count": 2,
   "metadata": {},
   "outputs": [],
   "source": [
    "base_folder = \"Result\"\n",
    "result_folder = \"Result\""
   ]
  },
  {
   "cell_type": "code",
   "execution_count": 4,
   "metadata": {},
   "outputs": [],
   "source": [
    "recommendations_df = pd.read_csv(f\"{base_folder}/recommendations.csv\")\n",
    "item_metadata_df = pd.read_csv(f\"{base_folder}/item_metadata_w_tags.csv\")"
   ]
  },
  {
   "cell_type": "code",
   "execution_count": null,
   "metadata": {},
   "outputs": [],
   "source": [
    "print"
   ]
  },
  {
   "cell_type": "code",
   "execution_count": null,
   "metadata": {},
   "outputs": [],
   "source": [
    "# Get datetime from epoch\n",
    "recommendations_df['datetime'] = pd.to_datetime(recommendations_df[\"timestamp\"], unit=\"s\")"
   ]
  },
  {
   "cell_type": "code",
   "execution_count": null,
   "metadata": {},
   "outputs": [],
   "source": [
    "# Calculate user information\n",
    "user_df = pd.to_datetime(recommendations_df.groupby('user').datetime.min().rename('signup_date').dt.date).reset_index()"
   ]
  },
  {
   "cell_type": "code",
   "execution_count": null,
   "metadata": {},
   "outputs": [],
   "source": [
    "user_df.head()"
   ]
  },
  {
   "cell_type": "code",
   "execution_count": null,
   "metadata": {},
   "outputs": [],
   "source": [
    "user_df.to_csv(f'{base_folder}/user_information.csv', index=True, header=True)"
   ]
  },
  {
   "cell_type": "markdown",
   "metadata": {},
   "source": [
    "# Transform Dataset"
   ]
  },
  {
   "cell_type": "code",
   "execution_count": null,
   "metadata": {},
   "outputs": [],
   "source": [
    "# Add user info to recommendations\n",
    "augmented_reco_df = pd.merge(recommendations_df, user_df, how=\"left\", on=\"user\", validate=\"many_to_one\")"
   ]
  },
  {
   "cell_type": "code",
   "execution_count": null,
   "metadata": {},
   "outputs": [],
   "source": [
    "# Add date\n",
    "augmented_reco_df[\"date\"] = pd.to_datetime(augmented_reco_df[\"datetime\"].dt.date)\n"
   ]
  },
  {
   "cell_type": "code",
   "execution_count": null,
   "metadata": {},
   "outputs": [],
   "source": [
    "augmented_reco_df.head()"
   ]
  },
  {
   "cell_type": "code",
   "execution_count": null,
   "metadata": {},
   "outputs": [],
   "source": [
    "# Change signup_date and date to first day of that week, so that we can easily calculate the weeks_since_signup\n",
    "augmented_reco_df['date'] = augmented_reco_df['date'] - augmented_reco_df['date'].dt.weekday * np.timedelta64(1, 'D')\n",
    "augmented_reco_df['signup_date'] = augmented_reco_df['signup_date'] - augmented_reco_df['signup_date'].dt.weekday * np.timedelta64(1, 'D')"
   ]
  },
  {
   "cell_type": "code",
   "execution_count": null,
   "metadata": {},
   "outputs": [],
   "source": [
    "augmented_reco_df.head()"
   ]
  },
  {
   "cell_type": "code",
   "execution_count": null,
   "metadata": {},
   "outputs": [],
   "source": [
    "# Assign index to unique weeks in the dataset\n",
    "\n",
    "min_date = augmented_reco_df[\"date\"].min()\n",
    "max_date = augmented_reco_df[\"date\"].max()\n",
    "\n",
    "min_week = min_date.isocalendar().week\n",
    "min_year = min_date.isocalendar().year\n",
    "max_week = max_date.isocalendar().week\n",
    "max_year = max_date.isocalendar().year\n",
    "n_weeks = (max_year - min_year) * 52 + (max_week - min_week) + 1\n",
    "min_year, min_week, max_year, max_week, n_weeks\n",
    "\n",
    "week_index_map = {(min_week - 1 + i) % 52 + 1: i for i in range(n_weeks)}\n",
    "# min_week, max_week, week_index_map\n"
   ]
  },
  {
   "cell_type": "code",
   "execution_count": null,
   "metadata": {},
   "outputs": [],
   "source": [
    "def assign_week_index(x):\n",
    "    try:\n",
    "        return week_index_map[x]\n",
    "    except:\n",
    "        print(x)\n",
    "\n",
    "augmented_reco_df[\"week_index\"] = augmented_reco_df[\"date\"].dt.isocalendar().week.map(assign_week_index)"
   ]
  },
  {
   "cell_type": "code",
   "execution_count": null,
   "metadata": {},
   "outputs": [],
   "source": [
    "# Add weeks since user signed up\n",
    "augmented_reco_df[\"weeks_since_signup\"] = ((augmented_reco_df[\"date\"] - augmented_reco_df[\"signup_date\"]).dt.days / 7).astype(int)"
   ]
  },
  {
   "cell_type": "code",
   "execution_count": null,
   "metadata": {},
   "outputs": [],
   "source": [
    "# Plot how many recommendations were made in each week\n",
    "augmented_reco_df[\"date\"].dt.isocalendar().week.hist()"
   ]
  },
  {
   "cell_type": "code",
   "execution_count": null,
   "metadata": {},
   "outputs": [],
   "source": [
    "# How many recommendations made in each week since signup\n",
    "augmented_reco_df[\"weeks_since_signup\"].plot.hist()"
   ]
  },
  {
   "cell_type": "code",
   "execution_count": null,
   "metadata": {},
   "outputs": [],
   "source": [
    "# Frequency of every week index in the dataset\n",
    "augmented_reco_df[\"week_index\"].plot.hist()"
   ]
  },
  {
   "cell_type": "code",
   "execution_count": null,
   "metadata": {},
   "outputs": [],
   "source": [
    "augmented_reco_df.head()"
   ]
  },
  {
   "cell_type": "code",
   "execution_count": null,
   "metadata": {},
   "outputs": [],
   "source": [
    "# Write intermediate data to folder for reuse\n",
    "augmented_reco_df.to_csv(f\"{base_folder}/augmented_reco_df.csv\", index=False)"
   ]
  },
  {
   "cell_type": "code",
   "execution_count": null,
   "metadata": {},
   "outputs": [],
   "source": [
    "augmented_reco_df = pd.merge(augmented_reco_df, item_metadata_df, on=\"item\")"
   ]
  },
  {
   "cell_type": "code",
   "execution_count": null,
   "metadata": {},
   "outputs": [],
   "source": [
    "augmented_reco_df"
   ]
  },
  {
   "cell_type": "markdown",
   "metadata": {},
   "source": [
    "# Group Into Observations"
   ]
  },
  {
   "cell_type": "code",
   "execution_count": null,
   "metadata": {},
   "outputs": [],
   "source": [
    "recommendations_grouped_week = augmented_reco_df.groupby(\n",
    "    [\"user\", \"week_index\", \"weeks_since_signup\"]).agg({\"item\": lambda x: len(set(x)), \"tag\": lambda y: len(set(y))}).reset_index().rename(columns={\"item\": \"count\", \"tag\": \"variety\"})"
   ]
  },
  {
   "cell_type": "code",
   "execution_count": null,
   "metadata": {},
   "outputs": [],
   "source": [
    "recommendations_grouped_week.to_csv(\n",
    "    f\"{base_folder}/samples_for_model.csv\", \n",
    "    index=False,\n",
    "    header=True,\n",
    ")\n"
   ]
  }
 ],
 "metadata": {
  "kernelspec": {
   "display_name": "Python 3 (ipykernel)",
   "language": "python",
   "name": "python3"
  },
  "language_info": {
   "codemirror_mode": {
    "name": "ipython",
    "version": 3
   },
   "file_extension": ".py",
   "mimetype": "text/x-python",
   "name": "python",
   "nbconvert_exporter": "python",
   "pygments_lexer": "ipython3",
   "version": "3.9.7"
  }
 },
 "nbformat": 4,
 "nbformat_minor": 2
}
