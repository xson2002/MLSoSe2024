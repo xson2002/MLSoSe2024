{
 "cells": [
  {
   "cell_type": "code",
   "execution_count": 1,
   "id": "2c9160ef",
   "metadata": {},
   "outputs": [],
   "source": [
    "from functools import partial\n",
    "import json\n",
    "import os\n",
    "\n",
    "import numpy as np\n",
    "import pandas as pd\n",
    "\n",
    "%matplotlib inline\n",
    "from collections import Counter"
   ]
  },
  {
   "cell_type": "code",
   "execution_count": 2,
   "id": "2ef1892e",
   "metadata": {},
   "outputs": [],
   "source": [
    "base_folder = \"Data\"\n",
    "result_folder = \"Result\""
   ]
  },
  {
   "cell_type": "code",
   "execution_count": 3,
   "id": "b2f91fd6",
   "metadata": {},
   "outputs": [],
   "source": [
    "item_features = pd.read_csv(f\"{base_folder}/item_features.csv\")"
   ]
  },
  {
   "cell_type": "code",
   "execution_count": 4,
   "id": "519dbf85",
   "metadata": {},
   "outputs": [],
   "source": [
    "first_level_category = item_features[[ 'first_level_category_id', 'first_level_category_name_en']]\n",
    "first_level_category = first_level_category.sort_values(by='first_level_category_id')\n"
   ]
  },
  {
   "cell_type": "code",
   "execution_count": 5,
   "id": "15c9c878",
   "metadata": {
    "scrolled": true
   },
   "outputs": [
    {
     "name": "stdout",
     "output_type": "stream",
     "text": [
      "ID: 0, Item: empty, Count: 503039\n",
      "ID: 1, Item: dance, Count: 136906\n",
      "ID: 2, Item: music, Count: 308720\n",
      "ID: 3, Item: game, Count: 502102\n",
      "ID: 4, Item: Beauty Makeup, Count: 121934\n",
      "ID: 5, Item: Style, Count: 277646\n",
      "ID: 6, Item: Star Entertainment, Count: 330967\n",
      "ID: 7, Item: motion, Count: 145199\n",
      "ID: 8, Item: Appearance value, Count: 125464\n",
      "ID: 9, Item: Funny, Count: 235866\n",
      "ID: 10, Item: Travel, Count: 57720\n",
      "ID: 11, Item: life, Count: 254264\n",
      "ID: 12, Item: Food, Count: 352139\n",
      "ID: 13, Item: San Nong, Count: 169553\n",
      "ID: 14, Item: education, Count: 88028\n",
      "ID: 15, Item: Talent, Count: 187795\n",
      "ID: 16, Item: health, Count: 101126\n",
      "ID: 17, Item: animal, Count: 108251\n",
      "ID: 18, Item: automobile, Count: 158793\n",
      "ID: 19, Item: emotion, Count: 254141\n",
      "ID: 20, Item: pixiv, Count: 457381\n",
      "ID: 21, Item: history, Count: 21470\n",
      "ID: 22, Item: Finance and Economics, Count: 27860\n",
      "ID: 23, Item: religion, Count: 20248\n",
      "ID: 24, Item: Astrological numerology, Count: 34186\n",
      "ID: 25, Item: Parent-child, Count: 213984\n",
      "ID: 26, Item: photograph, Count: 54960\n",
      "ID: 27, Item: High tech digital, Count: 87704\n",
      "ID: 28, Item: real-time info, Count: 171343\n",
      "ID: 29, Item: science, Count: 12811\n",
      "ID: 30, Item: statute, Count: 22938\n",
      "ID: 34, Item: Random clap, Count: 621530\n",
      "ID: 35, Item: military affairs, Count: 24857\n",
      "ID: 36, Item: Real Estate Home Furnishings, Count: 92519\n",
      "ID: 37, Item: Strange people and strange phenomena, Count: 21560\n",
      "ID: 38, Item: read, Count: 99414\n",
      "ID: 39, Item: Film, Television, and Short Dramas, Count: 545572\n"
     ]
    }
   ],
   "source": [
    "item_feature_pairs = first_level_category.apply(tuple, axis=1)\n",
    "item_counts = Counter(item_feature_pairs)\n",
    "for (item_id, item), count in item_counts.items():\n",
    "    print(f'ID: {item_id}, Item: {item}, Count: {count}')"
   ]
  },
  {
   "cell_type": "code",
   "execution_count": 6,
   "id": "b816c21b",
   "metadata": {},
   "outputs": [],
   "source": [
    "item_counts_df = pd.DataFrame(item_counts.items(), columns=['first_level_category', 'count'])\n",
    "\n",
    "item_counts_df[['id', 'tag']] = pd.DataFrame(item_counts_df['first_level_category'].tolist(), index=item_counts_df.index)\n",
    "\n",
    "item_counts_df[['id', 'tag', 'count']].to_csv(f\"{result_folder}/Category-ID-Count.csv\", index=False)"
   ]
  },
  {
   "cell_type": "code",
   "execution_count": 7,
   "id": "1d79ce57",
   "metadata": {},
   "outputs": [],
   "source": [
    "src_inter = pd.read_csv(f\"{base_folder}/src_inter.csv\")"
   ]
  },
  {
   "cell_type": "code",
   "execution_count": 8,
   "id": "f82abc7d",
   "metadata": {},
   "outputs": [
    {
     "ename": "KeyError",
     "evalue": "'search_source'",
     "output_type": "error",
     "traceback": [
      "\u001b[0;31m---------------------------------------------------------------------------\u001b[0m",
      "\u001b[0;31mKeyError\u001b[0m                                  Traceback (most recent call last)",
      "\u001b[0;32m~/opt/anaconda3/lib/python3.9/site-packages/pandas/core/indexes/base.py\u001b[0m in \u001b[0;36mget_loc\u001b[0;34m(self, key, method, tolerance)\u001b[0m\n\u001b[1;32m   3360\u001b[0m             \u001b[0;32mtry\u001b[0m\u001b[0;34m:\u001b[0m\u001b[0;34m\u001b[0m\u001b[0;34m\u001b[0m\u001b[0m\n\u001b[0;32m-> 3361\u001b[0;31m                 \u001b[0;32mreturn\u001b[0m \u001b[0mself\u001b[0m\u001b[0;34m.\u001b[0m\u001b[0m_engine\u001b[0m\u001b[0;34m.\u001b[0m\u001b[0mget_loc\u001b[0m\u001b[0;34m(\u001b[0m\u001b[0mcasted_key\u001b[0m\u001b[0;34m)\u001b[0m\u001b[0;34m\u001b[0m\u001b[0;34m\u001b[0m\u001b[0m\n\u001b[0m\u001b[1;32m   3362\u001b[0m             \u001b[0;32mexcept\u001b[0m \u001b[0mKeyError\u001b[0m \u001b[0;32mas\u001b[0m \u001b[0merr\u001b[0m\u001b[0;34m:\u001b[0m\u001b[0;34m\u001b[0m\u001b[0;34m\u001b[0m\u001b[0m\n",
      "\u001b[0;32m~/opt/anaconda3/lib/python3.9/site-packages/pandas/_libs/index.pyx\u001b[0m in \u001b[0;36mpandas._libs.index.IndexEngine.get_loc\u001b[0;34m()\u001b[0m\n",
      "\u001b[0;32m~/opt/anaconda3/lib/python3.9/site-packages/pandas/_libs/index.pyx\u001b[0m in \u001b[0;36mpandas._libs.index.IndexEngine.get_loc\u001b[0;34m()\u001b[0m\n",
      "\u001b[0;32mpandas/_libs/hashtable_class_helper.pxi\u001b[0m in \u001b[0;36mpandas._libs.hashtable.PyObjectHashTable.get_item\u001b[0;34m()\u001b[0m\n",
      "\u001b[0;32mpandas/_libs/hashtable_class_helper.pxi\u001b[0m in \u001b[0;36mpandas._libs.hashtable.PyObjectHashTable.get_item\u001b[0;34m()\u001b[0m\n",
      "\u001b[0;31mKeyError\u001b[0m: 'search_source'",
      "\nThe above exception was the direct cause of the following exception:\n",
      "\u001b[0;31mKeyError\u001b[0m                                  Traceback (most recent call last)",
      "\u001b[0;32m/var/folders/3l/1jc1f2751r3_zrkbzkq06ms80000gn/T/ipykernel_7895/2170683866.py\u001b[0m in \u001b[0;36m<module>\u001b[0;34m\u001b[0m\n\u001b[0;32m----> 1\u001b[0;31m \u001b[0msearch_source\u001b[0m \u001b[0;34m=\u001b[0m \u001b[0msrc_inter\u001b[0m\u001b[0;34m[\u001b[0m \u001b[0;34m'search_source'\u001b[0m\u001b[0;34m]\u001b[0m\u001b[0;34m\u001b[0m\u001b[0;34m\u001b[0m\u001b[0m\n\u001b[0m\u001b[1;32m      2\u001b[0m \u001b[0msearch_source_counts\u001b[0m \u001b[0;34m=\u001b[0m \u001b[0mCounter\u001b[0m\u001b[0;34m(\u001b[0m\u001b[0msearch_source\u001b[0m\u001b[0;34m)\u001b[0m\u001b[0;34m\u001b[0m\u001b[0;34m\u001b[0m\u001b[0m\n\u001b[1;32m      3\u001b[0m \u001b[0;34m\u001b[0m\u001b[0m\n\u001b[1;32m      4\u001b[0m \u001b[0;32mfor\u001b[0m \u001b[0mitem\u001b[0m\u001b[0;34m,\u001b[0m \u001b[0mcount\u001b[0m \u001b[0;32min\u001b[0m \u001b[0msearch_source_counts\u001b[0m\u001b[0;34m.\u001b[0m\u001b[0mitems\u001b[0m\u001b[0;34m(\u001b[0m\u001b[0;34m)\u001b[0m\u001b[0;34m:\u001b[0m\u001b[0;34m\u001b[0m\u001b[0;34m\u001b[0m\u001b[0m\n\u001b[1;32m      5\u001b[0m     \u001b[0mprint\u001b[0m\u001b[0;34m(\u001b[0m\u001b[0;34mf'{item}: {count}'\u001b[0m\u001b[0;34m)\u001b[0m\u001b[0;34m\u001b[0m\u001b[0;34m\u001b[0m\u001b[0m\n",
      "\u001b[0;32m~/opt/anaconda3/lib/python3.9/site-packages/pandas/core/frame.py\u001b[0m in \u001b[0;36m__getitem__\u001b[0;34m(self, key)\u001b[0m\n\u001b[1;32m   3456\u001b[0m             \u001b[0;32mif\u001b[0m \u001b[0mself\u001b[0m\u001b[0;34m.\u001b[0m\u001b[0mcolumns\u001b[0m\u001b[0;34m.\u001b[0m\u001b[0mnlevels\u001b[0m \u001b[0;34m>\u001b[0m \u001b[0;36m1\u001b[0m\u001b[0;34m:\u001b[0m\u001b[0;34m\u001b[0m\u001b[0;34m\u001b[0m\u001b[0m\n\u001b[1;32m   3457\u001b[0m                 \u001b[0;32mreturn\u001b[0m \u001b[0mself\u001b[0m\u001b[0;34m.\u001b[0m\u001b[0m_getitem_multilevel\u001b[0m\u001b[0;34m(\u001b[0m\u001b[0mkey\u001b[0m\u001b[0;34m)\u001b[0m\u001b[0;34m\u001b[0m\u001b[0;34m\u001b[0m\u001b[0m\n\u001b[0;32m-> 3458\u001b[0;31m             \u001b[0mindexer\u001b[0m \u001b[0;34m=\u001b[0m \u001b[0mself\u001b[0m\u001b[0;34m.\u001b[0m\u001b[0mcolumns\u001b[0m\u001b[0;34m.\u001b[0m\u001b[0mget_loc\u001b[0m\u001b[0;34m(\u001b[0m\u001b[0mkey\u001b[0m\u001b[0;34m)\u001b[0m\u001b[0;34m\u001b[0m\u001b[0;34m\u001b[0m\u001b[0m\n\u001b[0m\u001b[1;32m   3459\u001b[0m             \u001b[0;32mif\u001b[0m \u001b[0mis_integer\u001b[0m\u001b[0;34m(\u001b[0m\u001b[0mindexer\u001b[0m\u001b[0;34m)\u001b[0m\u001b[0;34m:\u001b[0m\u001b[0;34m\u001b[0m\u001b[0;34m\u001b[0m\u001b[0m\n\u001b[1;32m   3460\u001b[0m                 \u001b[0mindexer\u001b[0m \u001b[0;34m=\u001b[0m \u001b[0;34m[\u001b[0m\u001b[0mindexer\u001b[0m\u001b[0;34m]\u001b[0m\u001b[0;34m\u001b[0m\u001b[0;34m\u001b[0m\u001b[0m\n",
      "\u001b[0;32m~/opt/anaconda3/lib/python3.9/site-packages/pandas/core/indexes/base.py\u001b[0m in \u001b[0;36mget_loc\u001b[0;34m(self, key, method, tolerance)\u001b[0m\n\u001b[1;32m   3361\u001b[0m                 \u001b[0;32mreturn\u001b[0m \u001b[0mself\u001b[0m\u001b[0;34m.\u001b[0m\u001b[0m_engine\u001b[0m\u001b[0;34m.\u001b[0m\u001b[0mget_loc\u001b[0m\u001b[0;34m(\u001b[0m\u001b[0mcasted_key\u001b[0m\u001b[0;34m)\u001b[0m\u001b[0;34m\u001b[0m\u001b[0;34m\u001b[0m\u001b[0m\n\u001b[1;32m   3362\u001b[0m             \u001b[0;32mexcept\u001b[0m \u001b[0mKeyError\u001b[0m \u001b[0;32mas\u001b[0m \u001b[0merr\u001b[0m\u001b[0;34m:\u001b[0m\u001b[0;34m\u001b[0m\u001b[0;34m\u001b[0m\u001b[0m\n\u001b[0;32m-> 3363\u001b[0;31m                 \u001b[0;32mraise\u001b[0m \u001b[0mKeyError\u001b[0m\u001b[0;34m(\u001b[0m\u001b[0mkey\u001b[0m\u001b[0;34m)\u001b[0m \u001b[0;32mfrom\u001b[0m \u001b[0merr\u001b[0m\u001b[0;34m\u001b[0m\u001b[0;34m\u001b[0m\u001b[0m\n\u001b[0m\u001b[1;32m   3364\u001b[0m \u001b[0;34m\u001b[0m\u001b[0m\n\u001b[1;32m   3365\u001b[0m         \u001b[0;32mif\u001b[0m \u001b[0mis_scalar\u001b[0m\u001b[0;34m(\u001b[0m\u001b[0mkey\u001b[0m\u001b[0;34m)\u001b[0m \u001b[0;32mand\u001b[0m \u001b[0misna\u001b[0m\u001b[0;34m(\u001b[0m\u001b[0mkey\u001b[0m\u001b[0;34m)\u001b[0m \u001b[0;32mand\u001b[0m \u001b[0;32mnot\u001b[0m \u001b[0mself\u001b[0m\u001b[0;34m.\u001b[0m\u001b[0mhasnans\u001b[0m\u001b[0;34m:\u001b[0m\u001b[0;34m\u001b[0m\u001b[0;34m\u001b[0m\u001b[0m\n",
      "\u001b[0;31mKeyError\u001b[0m: 'search_source'"
     ]
    }
   ],
   "source": [
    "search_source = src_inter[ 'search_source']\n",
    "search_source_counts = Counter(search_source)\n",
    "\n",
    "for item, count in search_source_counts.items():\n",
    "    print(f'{item}: {count}')"
   ]
  },
  {
   "cell_type": "code",
   "execution_count": null,
   "id": "11df6f45",
   "metadata": {},
   "outputs": [],
   "source": [
    "search_source_counts = Counter(search_source)\n",
    "\n",
    "for item, count in search_source_counts.items():\n",
    "    print(f'{item}: {count}')"
   ]
  },
  {
   "cell_type": "code",
   "execution_count": null,
   "id": "ad8ff87f",
   "metadata": {},
   "outputs": [],
   "source": [
    "item_type = src_inter[ 'item_type']\n",
    "item_type_counts = Counter(item_type)\n",
    "\n",
    "for item, count in item_type_counts.items():\n",
    "    print(f'{item}: {count}')"
   ]
  },
  {
   "cell_type": "code",
   "execution_count": null,
   "id": "e1394c3d",
   "metadata": {},
   "outputs": [],
   "source": [
    "print(src_inter['search_session_time'].head(10))"
   ]
  },
  {
   "cell_type": "code",
   "execution_count": null,
   "id": "740d43c7",
   "metadata": {},
   "outputs": [],
   "source": [
    "user_variety = src_inter.groupby('user_id')['search_source'].nunique().reset_index()\n",
    "user_variety.columns = ['user_id', 'variety']\n",
    "print(user_variety)\n"
   ]
  },
  {
   "cell_type": "code",
   "execution_count": null,
   "id": "1565cede",
   "metadata": {},
   "outputs": [],
   "source": [
    "user_features = pd.read_csv(f\"{base_folder}/user_features.csv\")"
   ]
  },
  {
   "cell_type": "code",
   "execution_count": null,
   "id": "9aed48d5",
   "metadata": {},
   "outputs": [],
   "source": [
    "print(user_features.head(10))\n"
   ]
  },
  {
   "cell_type": "code",
   "execution_count": null,
   "id": "8506ae81",
   "metadata": {},
   "outputs": [],
   "source": []
  }
 ],
 "metadata": {
  "kernelspec": {
   "display_name": "Python 3 (ipykernel)",
   "language": "python",
   "name": "python3"
  },
  "language_info": {
   "codemirror_mode": {
    "name": "ipython",
    "version": 3
   },
   "file_extension": ".py",
   "mimetype": "text/x-python",
   "name": "python",
   "nbconvert_exporter": "python",
   "pygments_lexer": "ipython3",
   "version": "3.9.7"
  }
 },
 "nbformat": 4,
 "nbformat_minor": 5
}
