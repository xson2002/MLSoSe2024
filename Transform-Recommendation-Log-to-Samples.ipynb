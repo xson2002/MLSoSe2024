{
 "cells": [
  {
   "cell_type": "code",
   "execution_count": 1,
   "metadata": {},
   "outputs": [],
   "source": [
    "from functools import partial\n",
    "import json\n",
    "import os\n",
    "\n",
    "import numpy as np\n",
    "import pandas as pd\n",
    "\n",
    "%matplotlib inline"
   ]
  },
  {
   "cell_type": "markdown",
   "metadata": {},
   "source": [
    "# Data Transformation\n",
    "\n",
    "Here, we transform the raw data into the observations required by the model. \n",
    "\n",
    "## Input Data\n",
    "\n",
    "We expect 2 data files to be available, `recommendations.csv` and `item_metadata_w_tags.csv`.\n",
    "Examples of these files can be found in the `data` folder.\n",
    "\n",
    "* `recommendations.csv`: \n",
    "    * timestamp (float): When the recommendation was made\n",
    "    * user (int) - User identifier\n",
    "    * item (int) - Item identifier\n",
    "\n",
    "* `item_metadata_w_tags.csv`:\n",
    "    * item (int)\n",
    "    * text (str)\n",
    "    * tag (str/int)\n",
    "\n",
    "## Output Data\n",
    "\n",
    "* `samples_for_model.csv` - Observations \n",
    "    * user (int) - User identifier\n",
    "    * week_index (int) - Week in the study period\n",
    "    * count (int) - Number of items recommended to the user in this week\n",
    "    * weeks_since_signup (int) - Number of weeks since the user's first interaction\n",
    "    * variety (int) - Variety in topics or political"
   ]
  },
  {
   "cell_type": "code",
   "execution_count": 2,
   "metadata": {},
   "outputs": [],
   "source": [
    "base_folder = \"Result\"\n",
    "result_folder = \"Result\""
   ]
  },
  {
   "cell_type": "code",
   "execution_count": 30,
   "metadata": {},
   "outputs": [],
   "source": [
    "recommendations_df = pd.read_csv(f\"{base_folder}/recommendations.csv\")\n",
    "item_metadata_df = pd.read_csv(f\"{base_folder}/item_metadata_w_tags.csv\")"
   ]
  },
  {
   "cell_type": "code",
   "execution_count": 32,
   "metadata": {},
   "outputs": [],
   "source": [
    "# Get datetime from epoch\n",
    "recommendations_df['datetime'] = pd.to_datetime(recommendations_df[\"timestamp\"], unit=\"ms\")"
   ]
  },
  {
   "cell_type": "code",
   "execution_count": 5,
   "metadata": {},
   "outputs": [],
   "source": [
    "# Calculate user information\n",
    "user_df = pd.to_datetime(recommendations_df.groupby('user').datetime.min().rename('signup_date').dt.date).reset_index()"
   ]
  },
  {
   "cell_type": "code",
   "execution_count": 6,
   "metadata": {},
   "outputs": [
    {
     "data": {
      "text/html": [
       "<div>\n",
       "<style scoped>\n",
       "    .dataframe tbody tr th:only-of-type {\n",
       "        vertical-align: middle;\n",
       "    }\n",
       "\n",
       "    .dataframe tbody tr th {\n",
       "        vertical-align: top;\n",
       "    }\n",
       "\n",
       "    .dataframe thead th {\n",
       "        text-align: right;\n",
       "    }\n",
       "</style>\n",
       "<table border=\"1\" class=\"dataframe\">\n",
       "  <thead>\n",
       "    <tr style=\"text-align: right;\">\n",
       "      <th></th>\n",
       "      <th>user</th>\n",
       "      <th>signup_date</th>\n",
       "    </tr>\n",
       "  </thead>\n",
       "  <tbody>\n",
       "    <tr>\n",
       "      <th>0</th>\n",
       "      <td>291</td>\n",
       "      <td>2023-05-25</td>\n",
       "    </tr>\n",
       "    <tr>\n",
       "      <th>1</th>\n",
       "      <td>1059</td>\n",
       "      <td>2023-05-22</td>\n",
       "    </tr>\n",
       "    <tr>\n",
       "      <th>2</th>\n",
       "      <td>5350</td>\n",
       "      <td>2023-05-23</td>\n",
       "    </tr>\n",
       "    <tr>\n",
       "      <th>3</th>\n",
       "      <td>6545</td>\n",
       "      <td>2023-05-28</td>\n",
       "    </tr>\n",
       "    <tr>\n",
       "      <th>4</th>\n",
       "      <td>7743</td>\n",
       "      <td>2023-05-27</td>\n",
       "    </tr>\n",
       "  </tbody>\n",
       "</table>\n",
       "</div>"
      ],
      "text/plain": [
       "   user signup_date\n",
       "0   291  2023-05-25\n",
       "1  1059  2023-05-22\n",
       "2  5350  2023-05-23\n",
       "3  6545  2023-05-28\n",
       "4  7743  2023-05-27"
      ]
     },
     "execution_count": 6,
     "metadata": {},
     "output_type": "execute_result"
    }
   ],
   "source": [
    "user_df.head()"
   ]
  },
  {
   "cell_type": "code",
   "execution_count": 33,
   "metadata": {},
   "outputs": [
    {
     "data": {
      "text/html": [
       "<div>\n",
       "<style scoped>\n",
       "    .dataframe tbody tr th:only-of-type {\n",
       "        vertical-align: middle;\n",
       "    }\n",
       "\n",
       "    .dataframe tbody tr th {\n",
       "        vertical-align: top;\n",
       "    }\n",
       "\n",
       "    .dataframe thead th {\n",
       "        text-align: right;\n",
       "    }\n",
       "</style>\n",
       "<table border=\"1\" class=\"dataframe\">\n",
       "  <thead>\n",
       "    <tr style=\"text-align: right;\">\n",
       "      <th></th>\n",
       "      <th>timestamp</th>\n",
       "      <th>user</th>\n",
       "      <th>item</th>\n",
       "      <th>datetime</th>\n",
       "    </tr>\n",
       "  </thead>\n",
       "  <tbody>\n",
       "    <tr>\n",
       "      <th>0</th>\n",
       "      <td>1.684742e+12</td>\n",
       "      <td>2399631</td>\n",
       "      <td>6471660</td>\n",
       "      <td>2023-05-22 07:51:21.120</td>\n",
       "    </tr>\n",
       "    <tr>\n",
       "      <th>1</th>\n",
       "      <td>1.684742e+12</td>\n",
       "      <td>2399631</td>\n",
       "      <td>2374719</td>\n",
       "      <td>2023-05-22 07:51:21.120</td>\n",
       "    </tr>\n",
       "    <tr>\n",
       "      <th>2</th>\n",
       "      <td>1.684742e+12</td>\n",
       "      <td>2399631</td>\n",
       "      <td>6479989</td>\n",
       "      <td>2023-05-22 07:51:21.120</td>\n",
       "    </tr>\n",
       "    <tr>\n",
       "      <th>3</th>\n",
       "      <td>1.684742e+12</td>\n",
       "      <td>2399631</td>\n",
       "      <td>2908630</td>\n",
       "      <td>2023-05-22 07:51:21.120</td>\n",
       "    </tr>\n",
       "    <tr>\n",
       "      <th>4</th>\n",
       "      <td>1.684742e+12</td>\n",
       "      <td>2399631</td>\n",
       "      <td>3274279</td>\n",
       "      <td>2023-05-22 07:51:21.120</td>\n",
       "    </tr>\n",
       "    <tr>\n",
       "      <th>...</th>\n",
       "      <td>...</td>\n",
       "      <td>...</td>\n",
       "      <td>...</td>\n",
       "      <td>...</td>\n",
       "    </tr>\n",
       "    <tr>\n",
       "      <th>14605711</th>\n",
       "      <td>1.686360e+12</td>\n",
       "      <td>2420004</td>\n",
       "      <td>5831048</td>\n",
       "      <td>2023-06-10 01:27:10.840</td>\n",
       "    </tr>\n",
       "    <tr>\n",
       "      <th>14605712</th>\n",
       "      <td>1.686360e+12</td>\n",
       "      <td>2420004</td>\n",
       "      <td>3700710</td>\n",
       "      <td>2023-06-10 01:27:10.840</td>\n",
       "    </tr>\n",
       "    <tr>\n",
       "      <th>14605713</th>\n",
       "      <td>1.686360e+12</td>\n",
       "      <td>2420004</td>\n",
       "      <td>3393756</td>\n",
       "      <td>2023-06-10 01:27:10.840</td>\n",
       "    </tr>\n",
       "    <tr>\n",
       "      <th>14605714</th>\n",
       "      <td>1.686360e+12</td>\n",
       "      <td>2420004</td>\n",
       "      <td>676201</td>\n",
       "      <td>2023-06-10 01:27:10.840</td>\n",
       "    </tr>\n",
       "    <tr>\n",
       "      <th>14605715</th>\n",
       "      <td>1.686360e+12</td>\n",
       "      <td>2420004</td>\n",
       "      <td>5647294</td>\n",
       "      <td>2023-06-10 01:27:10.840</td>\n",
       "    </tr>\n",
       "  </tbody>\n",
       "</table>\n",
       "<p>14605716 rows × 4 columns</p>\n",
       "</div>"
      ],
      "text/plain": [
       "             timestamp     user     item                datetime\n",
       "0         1.684742e+12  2399631  6471660 2023-05-22 07:51:21.120\n",
       "1         1.684742e+12  2399631  2374719 2023-05-22 07:51:21.120\n",
       "2         1.684742e+12  2399631  6479989 2023-05-22 07:51:21.120\n",
       "3         1.684742e+12  2399631  2908630 2023-05-22 07:51:21.120\n",
       "4         1.684742e+12  2399631  3274279 2023-05-22 07:51:21.120\n",
       "...                ...      ...      ...                     ...\n",
       "14605711  1.686360e+12  2420004  5831048 2023-06-10 01:27:10.840\n",
       "14605712  1.686360e+12  2420004  3700710 2023-06-10 01:27:10.840\n",
       "14605713  1.686360e+12  2420004  3393756 2023-06-10 01:27:10.840\n",
       "14605714  1.686360e+12  2420004   676201 2023-06-10 01:27:10.840\n",
       "14605715  1.686360e+12  2420004  5647294 2023-06-10 01:27:10.840\n",
       "\n",
       "[14605716 rows x 4 columns]"
      ]
     },
     "execution_count": 33,
     "metadata": {},
     "output_type": "execute_result"
    }
   ],
   "source": [
    "recommendations_df"
   ]
  },
  {
   "cell_type": "code",
   "execution_count": 7,
   "metadata": {},
   "outputs": [],
   "source": [
    "user_df.to_csv(f'{base_folder}/user_information.csv', index=True, header=True)"
   ]
  },
  {
   "cell_type": "markdown",
   "metadata": {},
   "source": [
    "# Transform Dataset"
   ]
  },
  {
   "cell_type": "code",
   "execution_count": 34,
   "metadata": {},
   "outputs": [],
   "source": [
    "# Add user info to recommendations\n",
    "augmented_reco_df = pd.merge(recommendations_df, user_df, how=\"left\", on=\"user\", validate=\"many_to_one\")"
   ]
  },
  {
   "cell_type": "code",
   "execution_count": 35,
   "metadata": {},
   "outputs": [],
   "source": [
    "# Add date\n",
    "augmented_reco_df[\"date\"] = pd.to_datetime(augmented_reco_df[\"datetime\"].dt.date)\n"
   ]
  },
  {
   "cell_type": "code",
   "execution_count": 36,
   "metadata": {},
   "outputs": [
    {
     "data": {
      "text/html": [
       "<div>\n",
       "<style scoped>\n",
       "    .dataframe tbody tr th:only-of-type {\n",
       "        vertical-align: middle;\n",
       "    }\n",
       "\n",
       "    .dataframe tbody tr th {\n",
       "        vertical-align: top;\n",
       "    }\n",
       "\n",
       "    .dataframe thead th {\n",
       "        text-align: right;\n",
       "    }\n",
       "</style>\n",
       "<table border=\"1\" class=\"dataframe\">\n",
       "  <thead>\n",
       "    <tr style=\"text-align: right;\">\n",
       "      <th></th>\n",
       "      <th>timestamp</th>\n",
       "      <th>user</th>\n",
       "      <th>item</th>\n",
       "      <th>datetime</th>\n",
       "      <th>signup_date</th>\n",
       "      <th>date</th>\n",
       "    </tr>\n",
       "  </thead>\n",
       "  <tbody>\n",
       "    <tr>\n",
       "      <th>0</th>\n",
       "      <td>1.684742e+12</td>\n",
       "      <td>2399631</td>\n",
       "      <td>6471660</td>\n",
       "      <td>2023-05-22 07:51:21.120</td>\n",
       "      <td>2023-05-22</td>\n",
       "      <td>2023-05-22</td>\n",
       "    </tr>\n",
       "    <tr>\n",
       "      <th>1</th>\n",
       "      <td>1.684742e+12</td>\n",
       "      <td>2399631</td>\n",
       "      <td>2374719</td>\n",
       "      <td>2023-05-22 07:51:21.120</td>\n",
       "      <td>2023-05-22</td>\n",
       "      <td>2023-05-22</td>\n",
       "    </tr>\n",
       "    <tr>\n",
       "      <th>2</th>\n",
       "      <td>1.684742e+12</td>\n",
       "      <td>2399631</td>\n",
       "      <td>6479989</td>\n",
       "      <td>2023-05-22 07:51:21.120</td>\n",
       "      <td>2023-05-22</td>\n",
       "      <td>2023-05-22</td>\n",
       "    </tr>\n",
       "    <tr>\n",
       "      <th>3</th>\n",
       "      <td>1.684742e+12</td>\n",
       "      <td>2399631</td>\n",
       "      <td>2908630</td>\n",
       "      <td>2023-05-22 07:51:21.120</td>\n",
       "      <td>2023-05-22</td>\n",
       "      <td>2023-05-22</td>\n",
       "    </tr>\n",
       "    <tr>\n",
       "      <th>4</th>\n",
       "      <td>1.684742e+12</td>\n",
       "      <td>2399631</td>\n",
       "      <td>3274279</td>\n",
       "      <td>2023-05-22 07:51:21.120</td>\n",
       "      <td>2023-05-22</td>\n",
       "      <td>2023-05-22</td>\n",
       "    </tr>\n",
       "  </tbody>\n",
       "</table>\n",
       "</div>"
      ],
      "text/plain": [
       "      timestamp     user     item                datetime signup_date  \\\n",
       "0  1.684742e+12  2399631  6471660 2023-05-22 07:51:21.120  2023-05-22   \n",
       "1  1.684742e+12  2399631  2374719 2023-05-22 07:51:21.120  2023-05-22   \n",
       "2  1.684742e+12  2399631  6479989 2023-05-22 07:51:21.120  2023-05-22   \n",
       "3  1.684742e+12  2399631  2908630 2023-05-22 07:51:21.120  2023-05-22   \n",
       "4  1.684742e+12  2399631  3274279 2023-05-22 07:51:21.120  2023-05-22   \n",
       "\n",
       "        date  \n",
       "0 2023-05-22  \n",
       "1 2023-05-22  \n",
       "2 2023-05-22  \n",
       "3 2023-05-22  \n",
       "4 2023-05-22  "
      ]
     },
     "execution_count": 36,
     "metadata": {},
     "output_type": "execute_result"
    }
   ],
   "source": [
    "augmented_reco_df.head()"
   ]
  },
  {
   "cell_type": "code",
   "execution_count": 37,
   "metadata": {},
   "outputs": [],
   "source": [
    "# Change signup_date and date to first day of that week, so that we can easily calculate the weeks_since_signup\n",
    "augmented_reco_df['date'] = augmented_reco_df['date'] - augmented_reco_df['date'].dt.weekday * np.timedelta64(1, 'D')\n",
    "augmented_reco_df['signup_date'] = augmented_reco_df['signup_date'] - augmented_reco_df['signup_date'].dt.weekday * np.timedelta64(1, 'D')"
   ]
  },
  {
   "cell_type": "code",
   "execution_count": 38,
   "metadata": {},
   "outputs": [
    {
     "data": {
      "text/html": [
       "<div>\n",
       "<style scoped>\n",
       "    .dataframe tbody tr th:only-of-type {\n",
       "        vertical-align: middle;\n",
       "    }\n",
       "\n",
       "    .dataframe tbody tr th {\n",
       "        vertical-align: top;\n",
       "    }\n",
       "\n",
       "    .dataframe thead th {\n",
       "        text-align: right;\n",
       "    }\n",
       "</style>\n",
       "<table border=\"1\" class=\"dataframe\">\n",
       "  <thead>\n",
       "    <tr style=\"text-align: right;\">\n",
       "      <th></th>\n",
       "      <th>timestamp</th>\n",
       "      <th>user</th>\n",
       "      <th>item</th>\n",
       "      <th>datetime</th>\n",
       "      <th>signup_date</th>\n",
       "      <th>date</th>\n",
       "    </tr>\n",
       "  </thead>\n",
       "  <tbody>\n",
       "    <tr>\n",
       "      <th>0</th>\n",
       "      <td>1.684742e+12</td>\n",
       "      <td>2399631</td>\n",
       "      <td>6471660</td>\n",
       "      <td>2023-05-22 07:51:21.120</td>\n",
       "      <td>2023-05-22</td>\n",
       "      <td>2023-05-22</td>\n",
       "    </tr>\n",
       "    <tr>\n",
       "      <th>1</th>\n",
       "      <td>1.684742e+12</td>\n",
       "      <td>2399631</td>\n",
       "      <td>2374719</td>\n",
       "      <td>2023-05-22 07:51:21.120</td>\n",
       "      <td>2023-05-22</td>\n",
       "      <td>2023-05-22</td>\n",
       "    </tr>\n",
       "    <tr>\n",
       "      <th>2</th>\n",
       "      <td>1.684742e+12</td>\n",
       "      <td>2399631</td>\n",
       "      <td>6479989</td>\n",
       "      <td>2023-05-22 07:51:21.120</td>\n",
       "      <td>2023-05-22</td>\n",
       "      <td>2023-05-22</td>\n",
       "    </tr>\n",
       "    <tr>\n",
       "      <th>3</th>\n",
       "      <td>1.684742e+12</td>\n",
       "      <td>2399631</td>\n",
       "      <td>2908630</td>\n",
       "      <td>2023-05-22 07:51:21.120</td>\n",
       "      <td>2023-05-22</td>\n",
       "      <td>2023-05-22</td>\n",
       "    </tr>\n",
       "    <tr>\n",
       "      <th>4</th>\n",
       "      <td>1.684742e+12</td>\n",
       "      <td>2399631</td>\n",
       "      <td>3274279</td>\n",
       "      <td>2023-05-22 07:51:21.120</td>\n",
       "      <td>2023-05-22</td>\n",
       "      <td>2023-05-22</td>\n",
       "    </tr>\n",
       "  </tbody>\n",
       "</table>\n",
       "</div>"
      ],
      "text/plain": [
       "      timestamp     user     item                datetime signup_date  \\\n",
       "0  1.684742e+12  2399631  6471660 2023-05-22 07:51:21.120  2023-05-22   \n",
       "1  1.684742e+12  2399631  2374719 2023-05-22 07:51:21.120  2023-05-22   \n",
       "2  1.684742e+12  2399631  6479989 2023-05-22 07:51:21.120  2023-05-22   \n",
       "3  1.684742e+12  2399631  2908630 2023-05-22 07:51:21.120  2023-05-22   \n",
       "4  1.684742e+12  2399631  3274279 2023-05-22 07:51:21.120  2023-05-22   \n",
       "\n",
       "        date  \n",
       "0 2023-05-22  \n",
       "1 2023-05-22  \n",
       "2 2023-05-22  \n",
       "3 2023-05-22  \n",
       "4 2023-05-22  "
      ]
     },
     "execution_count": 38,
     "metadata": {},
     "output_type": "execute_result"
    }
   ],
   "source": [
    "augmented_reco_df.head()"
   ]
  },
  {
   "cell_type": "code",
   "execution_count": 39,
   "metadata": {},
   "outputs": [],
   "source": [
    "# Assign index to unique days in the dataset\n",
    "min_date = augmented_reco_df[\"date\"].min()\n",
    "max_date = augmented_reco_df[\"date\"].max()\n",
    "\n",
    "min_day = (min_date.isocalendar().week - 1) * 7 + min_date.isocalendar().weekday\n",
    "min_year = min_date.isocalendar().year\n",
    "max_day = (max_date.isocalendar().week - 1) * 7 + max_date.isocalendar().weekday\n",
    "max_year = max_date.isocalendar().year\n",
    "n_days = (max_year - min_year) * 365 + (max_day - min_day) + 1\n",
    "min_year, min_day, max_year, max_day, n_days\n",
    "\n",
    "day_index_map = {(min_day - 1 + i) % 365 + 1: i for i in range(n_days)}\n",
    "# min_day, max_day, day_index_map\n"
   ]
  },
  {
   "cell_type": "code",
   "execution_count": 57,
   "metadata": {},
   "outputs": [
    {
     "name": "stdout",
     "output_type": "stream",
     "text": [
      "{141: 0, 142: 1, 143: 2, 144: 3, 145: 4, 146: 5, 147: 6, 148: 7, 149: 8, 150: 9, 151: 10, 152: 11, 153: 12, 154: 13, 155: 14}\n"
     ]
    }
   ],
   "source": [
    "print(day_index_map)"
   ]
  },
  {
   "cell_type": "code",
   "execution_count": 40,
   "metadata": {},
   "outputs": [],
   "source": [
    "def assign_day_index(x):\n",
    "    try:\n",
    "        return day_index_map[x]\n",
    "    except:\n",
    "        print('EXCEPT:', x)  \n",
    "\n",
    "\n",
    "augmented_reco_df[\"day_index\"] = ((augmented_reco_df[\"date\"].dt.isocalendar().week - 1) * 7 + augmented_reco_df[\"date\"].dt.isocalendar().day).map(assign_day_index)"
   ]
  },
  {
   "cell_type": "code",
   "execution_count": 41,
   "metadata": {},
   "outputs": [],
   "source": [
    "# Add weeks since user signed up\n",
    "augmented_reco_df[\"days_since_signup\"] = ((augmented_reco_df[\"date\"] - augmented_reco_df[\"signup_date\"]).dt.days).astype(int)"
   ]
  },
  {
   "cell_type": "code",
   "execution_count": 42,
   "metadata": {},
   "outputs": [
    {
     "data": {
      "text/plain": [
       "<AxesSubplot:>"
      ]
     },
     "execution_count": 42,
     "metadata": {},
     "output_type": "execute_result"
    },
    {
     "data": {
      "image/png": "[encoded data removed]",
      "text/plain": [
       "<Figure size 432x288 with 1 Axes>"
      ]
     },
     "metadata": {
      "needs_background": "light"
     },
     "output_type": "display_data"
    }
   ],
   "source": [
    "# Plot how many recommendations were made in each week\n",
    "augmented_reco_df[\"date\"].dt.isocalendar().day.hist()"
   ]
  },
  {
   "cell_type": "code",
   "execution_count": 43,
   "metadata": {},
   "outputs": [
    {
     "data": {
      "text/plain": [
       "<AxesSubplot:ylabel='Frequency'>"
      ]
     },
     "execution_count": 43,
     "metadata": {},
     "output_type": "execute_result"
    },
    {
     "data": {
      "image/png": "[encoded data removed]",
      "text/plain": [
       "<Figure size 432x288 with 1 Axes>"
      ]
     },
     "metadata": {
      "needs_background": "light"
     },
     "output_type": "display_data"
    }
   ],
   "source": [
    "# How many recommendations made in each week since signup\n",
    "augmented_reco_df[\"days_since_signup\"].plot.hist()"
   ]
  },
  {
   "cell_type": "code",
   "execution_count": 44,
   "metadata": {},
   "outputs": [
    {
     "data": {
      "text/plain": [
       "<AxesSubplot:ylabel='Frequency'>"
      ]
     },
     "execution_count": 44,
     "metadata": {},
     "output_type": "execute_result"
    },
    {
     "data": {
      "image/png": "[encoded data removed]",
      "text/plain": [
       "<Figure size 432x288 with 1 Axes>"
      ]
     },
     "metadata": {
      "needs_background": "light"
     },
     "output_type": "display_data"
    }
   ],
   "source": [
    "# Frequency of every week index in the dataset\n",
    "augmented_reco_df[\"day_index\"].plot.hist()"
   ]
  },
  {
   "cell_type": "code",
   "execution_count": 45,
   "metadata": {},
   "outputs": [
    {
     "data": {
      "text/html": [
       "<div>\n",
       "<style scoped>\n",
       "    .dataframe tbody tr th:only-of-type {\n",
       "        vertical-align: middle;\n",
       "    }\n",
       "\n",
       "    .dataframe tbody tr th {\n",
       "        vertical-align: top;\n",
       "    }\n",
       "\n",
       "    .dataframe thead th {\n",
       "        text-align: right;\n",
       "    }\n",
       "</style>\n",
       "<table border=\"1\" class=\"dataframe\">\n",
       "  <thead>\n",
       "    <tr style=\"text-align: right;\">\n",
       "      <th></th>\n",
       "      <th>timestamp</th>\n",
       "      <th>user</th>\n",
       "      <th>item</th>\n",
       "      <th>datetime</th>\n",
       "      <th>signup_date</th>\n",
       "      <th>date</th>\n",
       "      <th>day_index</th>\n",
       "      <th>days_since_signup</th>\n",
       "    </tr>\n",
       "  </thead>\n",
       "  <tbody>\n",
       "    <tr>\n",
       "      <th>0</th>\n",
       "      <td>1.684742e+12</td>\n",
       "      <td>2399631</td>\n",
       "      <td>6471660</td>\n",
       "      <td>2023-05-22 07:51:21.120</td>\n",
       "      <td>2023-05-22</td>\n",
       "      <td>2023-05-22</td>\n",
       "      <td>0</td>\n",
       "      <td>0</td>\n",
       "    </tr>\n",
       "    <tr>\n",
       "      <th>1</th>\n",
       "      <td>1.684742e+12</td>\n",
       "      <td>2399631</td>\n",
       "      <td>2374719</td>\n",
       "      <td>2023-05-22 07:51:21.120</td>\n",
       "      <td>2023-05-22</td>\n",
       "      <td>2023-05-22</td>\n",
       "      <td>0</td>\n",
       "      <td>0</td>\n",
       "    </tr>\n",
       "    <tr>\n",
       "      <th>2</th>\n",
       "      <td>1.684742e+12</td>\n",
       "      <td>2399631</td>\n",
       "      <td>6479989</td>\n",
       "      <td>2023-05-22 07:51:21.120</td>\n",
       "      <td>2023-05-22</td>\n",
       "      <td>2023-05-22</td>\n",
       "      <td>0</td>\n",
       "      <td>0</td>\n",
       "    </tr>\n",
       "    <tr>\n",
       "      <th>3</th>\n",
       "      <td>1.684742e+12</td>\n",
       "      <td>2399631</td>\n",
       "      <td>2908630</td>\n",
       "      <td>2023-05-22 07:51:21.120</td>\n",
       "      <td>2023-05-22</td>\n",
       "      <td>2023-05-22</td>\n",
       "      <td>0</td>\n",
       "      <td>0</td>\n",
       "    </tr>\n",
       "    <tr>\n",
       "      <th>4</th>\n",
       "      <td>1.684742e+12</td>\n",
       "      <td>2399631</td>\n",
       "      <td>3274279</td>\n",
       "      <td>2023-05-22 07:51:21.120</td>\n",
       "      <td>2023-05-22</td>\n",
       "      <td>2023-05-22</td>\n",
       "      <td>0</td>\n",
       "      <td>0</td>\n",
       "    </tr>\n",
       "  </tbody>\n",
       "</table>\n",
       "</div>"
      ],
      "text/plain": [
       "      timestamp     user     item                datetime signup_date  \\\n",
       "0  1.684742e+12  2399631  6471660 2023-05-22 07:51:21.120  2023-05-22   \n",
       "1  1.684742e+12  2399631  2374719 2023-05-22 07:51:21.120  2023-05-22   \n",
       "2  1.684742e+12  2399631  6479989 2023-05-22 07:51:21.120  2023-05-22   \n",
       "3  1.684742e+12  2399631  2908630 2023-05-22 07:51:21.120  2023-05-22   \n",
       "4  1.684742e+12  2399631  3274279 2023-05-22 07:51:21.120  2023-05-22   \n",
       "\n",
       "        date  day_index  days_since_signup  \n",
       "0 2023-05-22          0                  0  \n",
       "1 2023-05-22          0                  0  \n",
       "2 2023-05-22          0                  0  \n",
       "3 2023-05-22          0                  0  \n",
       "4 2023-05-22          0                  0  "
      ]
     },
     "execution_count": 45,
     "metadata": {},
     "output_type": "execute_result"
    }
   ],
   "source": [
    "augmented_reco_df.head()"
   ]
  },
  {
   "cell_type": "code",
   "execution_count": 52,
   "metadata": {},
   "outputs": [],
   "source": [
    "# Write intermediate data to folder for reuse\n",
    "augmented_reco_df.to_csv(f\"{result_folder}/augmented_reco_df.csv\", index=False)"
   ]
  },
  {
   "cell_type": "code",
   "execution_count": 46,
   "metadata": {},
   "outputs": [],
   "source": [
    "augmented_reco_df = pd.merge(augmented_reco_df, item_metadata_df, on=\"item\")"
   ]
  },
  {
   "cell_type": "code",
   "execution_count": 47,
   "metadata": {},
   "outputs": [
    {
     "data": {
      "text/html": [
       "<div>\n",
       "<style scoped>\n",
       "    .dataframe tbody tr th:only-of-type {\n",
       "        vertical-align: middle;\n",
       "    }\n",
       "\n",
       "    .dataframe tbody tr th {\n",
       "        vertical-align: top;\n",
       "    }\n",
       "\n",
       "    .dataframe thead th {\n",
       "        text-align: right;\n",
       "    }\n",
       "</style>\n",
       "<table border=\"1\" class=\"dataframe\">\n",
       "  <thead>\n",
       "    <tr style=\"text-align: right;\">\n",
       "      <th></th>\n",
       "      <th>timestamp</th>\n",
       "      <th>user</th>\n",
       "      <th>item</th>\n",
       "      <th>datetime</th>\n",
       "      <th>signup_date</th>\n",
       "      <th>date</th>\n",
       "      <th>day_index</th>\n",
       "      <th>days_since_signup</th>\n",
       "      <th>tag</th>\n",
       "    </tr>\n",
       "  </thead>\n",
       "  <tbody>\n",
       "    <tr>\n",
       "      <th>0</th>\n",
       "      <td>1.684742e+12</td>\n",
       "      <td>2399631</td>\n",
       "      <td>6471660</td>\n",
       "      <td>2023-05-22 07:51:21.120000000</td>\n",
       "      <td>2023-05-22</td>\n",
       "      <td>2023-05-22</td>\n",
       "      <td>0</td>\n",
       "      <td>0</td>\n",
       "      <td>0</td>\n",
       "    </tr>\n",
       "    <tr>\n",
       "      <th>1</th>\n",
       "      <td>1.684912e+12</td>\n",
       "      <td>2411280</td>\n",
       "      <td>6471660</td>\n",
       "      <td>2023-05-24 07:11:58.547000064</td>\n",
       "      <td>2023-05-22</td>\n",
       "      <td>2023-05-22</td>\n",
       "      <td>0</td>\n",
       "      <td>0</td>\n",
       "      <td>0</td>\n",
       "    </tr>\n",
       "    <tr>\n",
       "      <th>2</th>\n",
       "      <td>1.684742e+12</td>\n",
       "      <td>2399631</td>\n",
       "      <td>2374719</td>\n",
       "      <td>2023-05-22 07:51:21.120000000</td>\n",
       "      <td>2023-05-22</td>\n",
       "      <td>2023-05-22</td>\n",
       "      <td>0</td>\n",
       "      <td>0</td>\n",
       "      <td>9</td>\n",
       "    </tr>\n",
       "    <tr>\n",
       "      <th>3</th>\n",
       "      <td>1.685415e+12</td>\n",
       "      <td>2400449</td>\n",
       "      <td>2374719</td>\n",
       "      <td>2023-05-30 02:44:28.944999936</td>\n",
       "      <td>2023-05-22</td>\n",
       "      <td>2023-05-29</td>\n",
       "      <td>7</td>\n",
       "      <td>7</td>\n",
       "      <td>9</td>\n",
       "    </tr>\n",
       "    <tr>\n",
       "      <th>4</th>\n",
       "      <td>1.685248e+12</td>\n",
       "      <td>2400202</td>\n",
       "      <td>2374719</td>\n",
       "      <td>2023-05-28 04:30:50.969999872</td>\n",
       "      <td>2023-05-22</td>\n",
       "      <td>2023-05-22</td>\n",
       "      <td>0</td>\n",
       "      <td>0</td>\n",
       "      <td>9</td>\n",
       "    </tr>\n",
       "    <tr>\n",
       "      <th>...</th>\n",
       "      <td>...</td>\n",
       "      <td>...</td>\n",
       "      <td>...</td>\n",
       "      <td>...</td>\n",
       "      <td>...</td>\n",
       "      <td>...</td>\n",
       "      <td>...</td>\n",
       "      <td>...</td>\n",
       "      <td>...</td>\n",
       "    </tr>\n",
       "    <tr>\n",
       "      <th>14605707</th>\n",
       "      <td>1.686323e+12</td>\n",
       "      <td>2417719</td>\n",
       "      <td>3930325</td>\n",
       "      <td>2023-06-09 15:09:05.531000064</td>\n",
       "      <td>2023-05-22</td>\n",
       "      <td>2023-06-05</td>\n",
       "      <td>14</td>\n",
       "      <td>14</td>\n",
       "      <td>25</td>\n",
       "    </tr>\n",
       "    <tr>\n",
       "      <th>14605708</th>\n",
       "      <td>1.686360e+12</td>\n",
       "      <td>2423480</td>\n",
       "      <td>4559065</td>\n",
       "      <td>2023-06-10 01:23:26.668999936</td>\n",
       "      <td>2023-05-29</td>\n",
       "      <td>2023-06-05</td>\n",
       "      <td>14</td>\n",
       "      <td>7</td>\n",
       "      <td>20</td>\n",
       "    </tr>\n",
       "    <tr>\n",
       "      <th>14605709</th>\n",
       "      <td>1.686360e+12</td>\n",
       "      <td>2410969</td>\n",
       "      <td>5785504</td>\n",
       "      <td>2023-06-10 01:16:30.432999936</td>\n",
       "      <td>2023-05-22</td>\n",
       "      <td>2023-06-05</td>\n",
       "      <td>14</td>\n",
       "      <td>14</td>\n",
       "      <td>18</td>\n",
       "    </tr>\n",
       "    <tr>\n",
       "      <th>14605710</th>\n",
       "      <td>1.686360e+12</td>\n",
       "      <td>2423480</td>\n",
       "      <td>4185730</td>\n",
       "      <td>2023-06-10 01:26:29.296999936</td>\n",
       "      <td>2023-05-29</td>\n",
       "      <td>2023-06-05</td>\n",
       "      <td>14</td>\n",
       "      <td>7</td>\n",
       "      <td>20</td>\n",
       "    </tr>\n",
       "    <tr>\n",
       "      <th>14605711</th>\n",
       "      <td>1.686360e+12</td>\n",
       "      <td>2420004</td>\n",
       "      <td>5831048</td>\n",
       "      <td>2023-06-10 01:27:10.840000000</td>\n",
       "      <td>2023-05-22</td>\n",
       "      <td>2023-06-05</td>\n",
       "      <td>14</td>\n",
       "      <td>14</td>\n",
       "      <td>19</td>\n",
       "    </tr>\n",
       "  </tbody>\n",
       "</table>\n",
       "<p>14605712 rows × 9 columns</p>\n",
       "</div>"
      ],
      "text/plain": [
       "             timestamp     user     item                      datetime  \\\n",
       "0         1.684742e+12  2399631  6471660 2023-05-22 07:51:21.120000000   \n",
       "1         1.684912e+12  2411280  6471660 2023-05-24 07:11:58.547000064   \n",
       "2         1.684742e+12  2399631  2374719 2023-05-22 07:51:21.120000000   \n",
       "3         1.685415e+12  2400449  2374719 2023-05-30 02:44:28.944999936   \n",
       "4         1.685248e+12  2400202  2374719 2023-05-28 04:30:50.969999872   \n",
       "...                ...      ...      ...                           ...   \n",
       "14605707  1.686323e+12  2417719  3930325 2023-06-09 15:09:05.531000064   \n",
       "14605708  1.686360e+12  2423480  4559065 2023-06-10 01:23:26.668999936   \n",
       "14605709  1.686360e+12  2410969  5785504 2023-06-10 01:16:30.432999936   \n",
       "14605710  1.686360e+12  2423480  4185730 2023-06-10 01:26:29.296999936   \n",
       "14605711  1.686360e+12  2420004  5831048 2023-06-10 01:27:10.840000000   \n",
       "\n",
       "         signup_date       date  day_index  days_since_signup  tag  \n",
       "0         2023-05-22 2023-05-22          0                  0    0  \n",
       "1         2023-05-22 2023-05-22          0                  0    0  \n",
       "2         2023-05-22 2023-05-22          0                  0    9  \n",
       "3         2023-05-22 2023-05-29          7                  7    9  \n",
       "4         2023-05-22 2023-05-22          0                  0    9  \n",
       "...              ...        ...        ...                ...  ...  \n",
       "14605707  2023-05-22 2023-06-05         14                 14   25  \n",
       "14605708  2023-05-29 2023-06-05         14                  7   20  \n",
       "14605709  2023-05-22 2023-06-05         14                 14   18  \n",
       "14605710  2023-05-29 2023-06-05         14                  7   20  \n",
       "14605711  2023-05-22 2023-06-05         14                 14   19  \n",
       "\n",
       "[14605712 rows x 9 columns]"
      ]
     },
     "execution_count": 47,
     "metadata": {},
     "output_type": "execute_result"
    }
   ],
   "source": [
    "augmented_reco_df"
   ]
  },
  {
   "cell_type": "markdown",
   "metadata": {},
   "source": [
    "# Group Into Observations"
   ]
  },
  {
   "cell_type": "code",
   "execution_count": 49,
   "metadata": {},
   "outputs": [],
   "source": [
    "recommendations_grouped_day = augmented_reco_df.groupby([\"user\", \"day_index\", \"days_since_signup\"]).agg({\"item\": lambda x: len(set(x)), \"tag\": lambda y: len(set(y))}).reset_index().rename(columns={\"item\": \"count\", \"tag\": \"variety\"})"
   ]
  },
  {
   "cell_type": "code",
   "execution_count": 53,
   "metadata": {},
   "outputs": [
    {
     "data": {
      "text/html": [
       "<div>\n",
       "<style scoped>\n",
       "    .dataframe tbody tr th:only-of-type {\n",
       "        vertical-align: middle;\n",
       "    }\n",
       "\n",
       "    .dataframe tbody tr th {\n",
       "        vertical-align: top;\n",
       "    }\n",
       "\n",
       "    .dataframe thead th {\n",
       "        text-align: right;\n",
       "    }\n",
       "</style>\n",
       "<table border=\"1\" class=\"dataframe\">\n",
       "  <thead>\n",
       "    <tr style=\"text-align: right;\">\n",
       "      <th></th>\n",
       "      <th>user</th>\n",
       "      <th>day_index</th>\n",
       "      <th>days_since_signup</th>\n",
       "      <th>count</th>\n",
       "      <th>variety</th>\n",
       "    </tr>\n",
       "  </thead>\n",
       "  <tbody>\n",
       "    <tr>\n",
       "      <th>0</th>\n",
       "      <td>291</td>\n",
       "      <td>0</td>\n",
       "      <td>0</td>\n",
       "      <td>47</td>\n",
       "      <td>12</td>\n",
       "    </tr>\n",
       "    <tr>\n",
       "      <th>1</th>\n",
       "      <td>1059</td>\n",
       "      <td>0</td>\n",
       "      <td>0</td>\n",
       "      <td>77</td>\n",
       "      <td>18</td>\n",
       "    </tr>\n",
       "    <tr>\n",
       "      <th>2</th>\n",
       "      <td>1059</td>\n",
       "      <td>7</td>\n",
       "      <td>7</td>\n",
       "      <td>1</td>\n",
       "      <td>1</td>\n",
       "    </tr>\n",
       "    <tr>\n",
       "      <th>3</th>\n",
       "      <td>5350</td>\n",
       "      <td>0</td>\n",
       "      <td>0</td>\n",
       "      <td>1</td>\n",
       "      <td>1</td>\n",
       "    </tr>\n",
       "    <tr>\n",
       "      <th>4</th>\n",
       "      <td>5350</td>\n",
       "      <td>7</td>\n",
       "      <td>7</td>\n",
       "      <td>32</td>\n",
       "      <td>18</td>\n",
       "    </tr>\n",
       "    <tr>\n",
       "      <th>...</th>\n",
       "      <td>...</td>\n",
       "      <td>...</td>\n",
       "      <td>...</td>\n",
       "      <td>...</td>\n",
       "      <td>...</td>\n",
       "    </tr>\n",
       "    <tr>\n",
       "      <th>47355</th>\n",
       "      <td>2425088</td>\n",
       "      <td>0</td>\n",
       "      <td>0</td>\n",
       "      <td>6</td>\n",
       "      <td>3</td>\n",
       "    </tr>\n",
       "    <tr>\n",
       "      <th>47356</th>\n",
       "      <td>2425088</td>\n",
       "      <td>7</td>\n",
       "      <td>7</td>\n",
       "      <td>6</td>\n",
       "      <td>2</td>\n",
       "    </tr>\n",
       "    <tr>\n",
       "      <th>47357</th>\n",
       "      <td>2425089</td>\n",
       "      <td>0</td>\n",
       "      <td>0</td>\n",
       "      <td>11</td>\n",
       "      <td>9</td>\n",
       "    </tr>\n",
       "    <tr>\n",
       "      <th>47358</th>\n",
       "      <td>2425090</td>\n",
       "      <td>0</td>\n",
       "      <td>0</td>\n",
       "      <td>12</td>\n",
       "      <td>9</td>\n",
       "    </tr>\n",
       "    <tr>\n",
       "      <th>47359</th>\n",
       "      <td>2425091</td>\n",
       "      <td>0</td>\n",
       "      <td>0</td>\n",
       "      <td>11</td>\n",
       "      <td>10</td>\n",
       "    </tr>\n",
       "  </tbody>\n",
       "</table>\n",
       "<p>47360 rows × 5 columns</p>\n",
       "</div>"
      ],
      "text/plain": [
       "          user  day_index  days_since_signup  count  variety\n",
       "0          291          0                  0     47       12\n",
       "1         1059          0                  0     77       18\n",
       "2         1059          7                  7      1        1\n",
       "3         5350          0                  0      1        1\n",
       "4         5350          7                  7     32       18\n",
       "...        ...        ...                ...    ...      ...\n",
       "47355  2425088          0                  0      6        3\n",
       "47356  2425088          7                  7      6        2\n",
       "47357  2425089          0                  0     11        9\n",
       "47358  2425090          0                  0     12        9\n",
       "47359  2425091          0                  0     11       10\n",
       "\n",
       "[47360 rows x 5 columns]"
      ]
     },
     "execution_count": 53,
     "metadata": {},
     "output_type": "execute_result"
    }
   ],
   "source": [
    "recommendations_grouped_day"
   ]
  },
  {
   "cell_type": "code",
   "execution_count": 50,
   "metadata": {},
   "outputs": [],
   "source": [
    "recommendations_grouped_day.to_csv(\n",
    "    f\"{base_folder}/samples_for_model.csv\",\n",
    "    index=False,\n",
    "    header=True,\n",
    ")"
   ]
  },
  {
   "cell_type": "code",
   "execution_count": 56,
   "metadata": {},
   "outputs": [
    {
     "name": "stdout",
     "output_type": "stream",
     "text": [
      "2404434\n",
      "3\n"
     ]
    }
   ],
   "source": [
    "user_counts = recommendations_grouped_day['user'].value_counts()\n",
    "\n",
    "# Find the name that appears the most frequently and its count\n",
    "most_frequent_user = user_counts.idxmax()\n",
    "user_counts = user_counts.max()\n",
    "print(most_frequent_user)\n",
    "print(max_count)"
   ]
  },
  {
   "cell_type": "code",
   "execution_count": null,
   "metadata": {},
   "outputs": [],
   "source": []
  }
 ],
 "metadata": {
  "kernelspec": {
   "display_name": "Python 3 (ipykernel)",
   "language": "python",
   "name": "python3"
  },
  "language_info": {
   "codemirror_mode": {
    "name": "ipython",
    "version": 3
   },
   "file_extension": ".py",
   "mimetype": "text/x-python",
   "name": "python",
   "nbconvert_exporter": "python",
   "pygments_lexer": "ipython3",
   "version": "3.9.7"
  }
 },
 "nbformat": 4,
 "nbformat_minor": 2
}
